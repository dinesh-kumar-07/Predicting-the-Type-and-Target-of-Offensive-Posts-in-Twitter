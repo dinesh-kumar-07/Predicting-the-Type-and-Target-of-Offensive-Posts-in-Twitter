{
 "cells": [
  {
   "attachments": {},
   "cell_type": "markdown",
   "metadata": {},
   "source": [
    "### Import Libraries"
   ]
  },
  {
   "cell_type": "code",
   "execution_count": 13,
   "metadata": {},
   "outputs": [],
   "source": [
    "import pandas as pd\n",
    "import string\n",
    "import numpy as np\n",
    "import seaborn as sns\n",
    "import matplotlib.pyplot as plt\n",
    "\n",
    "from sklearn.preprocessing import LabelEncoder\n",
    "from sklearn.pipeline import Pipeline\n",
    "from sklearn.metrics import precision_recall_fscore_support, accuracy_score, confusion_matrix,classification_report\n",
    "from sklearn import metrics\n",
    "from sklearn.model_selection import train_test_split\n",
    "from sklearn.preprocessing import scale,StandardScaler\n",
    "from keras_preprocessing.sequence import pad_sequences\n",
    "from sklearn.feature_extraction.text import TfidfVectorizer,TfidfTransformer,CountVectorizer\n",
    "from keras.layers import LSTM, Activation, Dense, Dropout, Input, Embedding\n",
    "from keras.preprocessing.text import Tokenizer\n",
    "from keras.callbacks import EarlyStopping\n",
    "from keras.preprocessing import sequence\n",
    "from keras.optimizers import RMSprop\n",
    "from keras.models import Model\n",
    "import tensorflow as tf\n",
    "\n",
    "from warnings import filterwarnings\n",
    "filterwarnings(\"ignore\")"
   ]
  },
  {
   "attachments": {},
   "cell_type": "markdown",
   "metadata": {},
   "source": [
    "### Load the data"
   ]
  },
  {
   "cell_type": "code",
   "execution_count": 14,
   "metadata": {},
   "outputs": [
    {
     "name": "stdout",
     "output_type": "stream",
     "text": [
      "          id                                              tweet subtask_a  \\\n",
      "0      86426  @USER She should ask a few native Americans wh...       OFF   \n",
      "1      90194  @USER @USER Go home you’re drunk!!! @USER #MAG...       OFF   \n",
      "2      16820  Amazon is investigating Chinese employees who ...       NOT   \n",
      "3      62688  @USER Someone should'veTaken\" this piece of sh...       OFF   \n",
      "4      43605  @USER @USER Obama wanted liberals &amp; illega...       NOT   \n",
      "...      ...                                                ...       ...   \n",
      "13235  95338  @USER Sometimes I get strong vibes from people...       OFF   \n",
      "13236  67210  Benidorm ✅  Creamfields ✅  Maga ✅   Not too sh...       NOT   \n",
      "13237  82921  @USER And why report this garbage.  We don't g...       OFF   \n",
      "13238  27429                                        @USER Pussy       OFF   \n",
      "13239  46552  #Spanishrevenge vs. #justice #HumanRights and ...       NOT   \n",
      "\n",
      "      subtask_b subtask_c  \n",
      "0           UNT       NaN  \n",
      "1           TIN       IND  \n",
      "2           NaN       NaN  \n",
      "3           UNT       NaN  \n",
      "4           NaN       NaN  \n",
      "...         ...       ...  \n",
      "13235       TIN       IND  \n",
      "13236       NaN       NaN  \n",
      "13237       TIN       OTH  \n",
      "13238       UNT       NaN  \n",
      "13239       NaN       NaN  \n",
      "\n",
      "[13240 rows x 5 columns]\n"
     ]
    }
   ],
   "source": [
    "train_data=pd.read_csv('olid-training-v1.0.tsv', delimiter='\\t', encoding='utf-8')\n",
    "\n",
    "train_tweets = train_data[['tweet']] #Extract tweets\n",
    "train_task_a_labels= train_data[['subtask_a']] #Extract subtsak_a labels\n",
    "train_task_b_labels= train_data[['subtask_b']] #Extract subtsak_b labels\n",
    "train_task_c_labels= train_data[['subtask_c']] #Extract subtsak_c labels\n",
    "\n",
    "train_task_a_labels.columns.values[0] = 'class_a' #Rename class attribute\n",
    "train_task_b_labels.columns.values[0] = 'class_b' #Rename class attribute\n",
    "train_task_c_labels.columns.values[0] = 'class_c' #Rename class attribute\n",
    "\n",
    "print(train_data)"
   ]
  },
  {
   "attachments": {},
   "cell_type": "markdown",
   "metadata": {},
   "source": [
    "### Text preprocessing"
   ]
  },
  {
   "cell_type": "code",
   "execution_count": 15,
   "metadata": {},
   "outputs": [],
   "source": [
    "def clean_tweets(df):\n",
    "    \n",
    "    punctuations = string.punctuation\n",
    "    \n",
    "    df.loc[:, 'tweet'] = df.tweet.str.replace('@USER', '') #Remove mentions (@USER)\n",
    "    df.loc[:, 'tweet'] = df.tweet.str.replace('URL', '') #Remove URLs\n",
    "    df.loc[:, 'tweet'] = df.tweet.str.replace('&amp', 'and') #Replace ampersand (&) with and\n",
    "    df.loc[:, 'tweet'] = df.tweet.str.replace('&lt','') #Remove &lt\n",
    "    df.loc[:, 'tweet'] = df.tweet.str.replace('&gt','') #Remove &gt\n",
    "    df.loc[:, 'tweet'] = df.tweet.str.replace('\\d+','') #Remove numbers\n",
    "    df.loc[:, 'tweet'] = df.tweet.str.lower() #Lowercase\n",
    "\n",
    "    #Remove punctuations\n",
    "    for punctuation in punctuations:\n",
    "        df.loc[:, 'tweet'] = df.tweet.str.replace(punctuation, '')\n",
    "\n",
    "    df.loc[:, 'tweet'] = df.astype(str).apply(\n",
    "        lambda x: x.str.encode('ascii', 'ignore').str.decode('ascii')\n",
    "    )\n",
    "    #Remove emojis\n",
    "    df.loc[:, 'tweet'] = df.tweet.str.strip() #Trim leading and trailing whitespaces"
   ]
  },
  {
   "cell_type": "code",
   "execution_count": 16,
   "metadata": {},
   "outputs": [],
   "source": [
    "clean_tweets(train_tweets)"
   ]
  },
  {
   "cell_type": "code",
   "execution_count": 17,
   "metadata": {},
   "outputs": [],
   "source": [
    "train_task_a_data = train_tweets.join(train_task_a_labels)\n",
    "\n",
    "train_task_b_data = train_tweets.join(train_task_b_labels)\n",
    "train_task_b_data = train_task_b_data.dropna() #Drop records with missing values\n",
    "\n",
    "train_task_c_data = train_tweets.join(train_task_c_labels)\n",
    "train_task_c_data = train_task_c_data.dropna() #Drop records with missing values\n",
    "\n",
    "#Apply quotes to cleaned tweets\n",
    "train_task_a_data.update(train_task_a_data[['tweet']].applymap('\\'{}\\''.format))\n",
    "train_task_b_data.update(train_task_b_data[['tweet']].applymap('\\'{}\\''.format))\n",
    "train_task_c_data.update(train_task_c_data[['tweet']].applymap('\\'{}\\''.format))"
   ]
  },
  {
   "cell_type": "code",
   "execution_count": 18,
   "metadata": {},
   "outputs": [
    {
     "data": {
      "text/html": [
       "<div>\n",
       "<style scoped>\n",
       "    .dataframe tbody tr th:only-of-type {\n",
       "        vertical-align: middle;\n",
       "    }\n",
       "\n",
       "    .dataframe tbody tr th {\n",
       "        vertical-align: top;\n",
       "    }\n",
       "\n",
       "    .dataframe thead th {\n",
       "        text-align: right;\n",
       "    }\n",
       "</style>\n",
       "<table border=\"1\" class=\"dataframe\">\n",
       "  <thead>\n",
       "    <tr style=\"text-align: right;\">\n",
       "      <th></th>\n",
       "      <th>tweet</th>\n",
       "      <th>class_a</th>\n",
       "    </tr>\n",
       "  </thead>\n",
       "  <tbody>\n",
       "    <tr>\n",
       "      <th>0</th>\n",
       "      <td>'she should ask a few native americans what th...</td>\n",
       "      <td>OFF</td>\n",
       "    </tr>\n",
       "    <tr>\n",
       "      <th>1</th>\n",
       "      <td>'go home youre drunk  maga trump'</td>\n",
       "      <td>OFF</td>\n",
       "    </tr>\n",
       "    <tr>\n",
       "      <th>2</th>\n",
       "      <td>'amazon is investigating chinese employees who...</td>\n",
       "      <td>NOT</td>\n",
       "    </tr>\n",
       "    <tr>\n",
       "      <th>3</th>\n",
       "      <td>'someone shouldvetaken this piece of shit to a...</td>\n",
       "      <td>OFF</td>\n",
       "    </tr>\n",
       "    <tr>\n",
       "      <th>4</th>\n",
       "      <td>'obama wanted liberals and illegals to move in...</td>\n",
       "      <td>NOT</td>\n",
       "    </tr>\n",
       "  </tbody>\n",
       "</table>\n",
       "</div>"
      ],
      "text/plain": [
       "                                               tweet class_a\n",
       "0  'she should ask a few native americans what th...     OFF\n",
       "1                  'go home youre drunk  maga trump'     OFF\n",
       "2  'amazon is investigating chinese employees who...     NOT\n",
       "3  'someone shouldvetaken this piece of shit to a...     OFF\n",
       "4  'obama wanted liberals and illegals to move in...     NOT"
      ]
     },
     "execution_count": 18,
     "metadata": {},
     "output_type": "execute_result"
    }
   ],
   "source": [
    "train_task_a_data.head()"
   ]
  },
  {
   "cell_type": "code",
   "execution_count": 19,
   "metadata": {},
   "outputs": [],
   "source": [
    "#Read tweets from test sets\n",
    "test_tweet_a=pd.read_csv('testset-levela.tsv', delimiter='\\t', encoding='utf-8')\n",
    "test_tweet_b=pd.read_csv('testset-levelb.tsv', delimiter='\\t', encoding='utf-8')\n",
    "test_tweet_c=pd.read_csv('testset-levelc.tsv', delimiter='\\t', encoding='utf-8')\n",
    "\n",
    "#Read tweet labels\n",
    "test_label_a=pd.read_csv('labels-levela.csv', encoding='utf-8', \n",
    "                         index_col=False, names=['id', 'class_a'])\n",
    "test_label_b=pd.read_csv('labels-levelb.csv', encoding='utf-8', \n",
    "                         index_col=False, names=['id', 'class_b'])\n",
    "test_label_c=pd.read_csv('labels-levelc.csv', encoding='utf-8', \n",
    "                         index_col=False, names=['id', 'class_c'])\n",
    "\n",
    "#Merge tweets with labels by id\n",
    "test_tweet_a = test_tweet_a.merge(test_label_a, on='id')\n",
    "test_tweet_b = test_tweet_b.merge(test_label_b, on='id')\n",
    "test_tweet_c = test_tweet_c.merge(test_label_c, on='id')\n",
    "\n",
    "#Drop id column\n",
    "test_tweet_a = test_tweet_a.drop(columns='id')\n",
    "test_tweet_b = test_tweet_b.drop(columns='id')\n",
    "test_tweet_c = test_tweet_c.drop(columns='id')\n",
    "\n",
    "#Clean tweets in test sets\n",
    "clean_tweets(test_tweet_a)\n",
    "clean_tweets(test_tweet_b)\n",
    "clean_tweets(test_tweet_c)\n",
    "\n",
    "#Apply quotes to cleaned tweets\n",
    "test_tweet_a.update(test_tweet_a[['tweet']].applymap('\\'{}\\''.format))\n",
    "test_tweet_b.update(test_tweet_b[['tweet']].applymap('\\'{}\\''.format))\n",
    "test_tweet_c.update(test_tweet_c[['tweet']].applymap('\\'{}\\''.format))"
   ]
  },
  {
   "cell_type": "code",
   "execution_count": 20,
   "metadata": {},
   "outputs": [
    {
     "data": {
      "text/html": [
       "<div>\n",
       "<style scoped>\n",
       "    .dataframe tbody tr th:only-of-type {\n",
       "        vertical-align: middle;\n",
       "    }\n",
       "\n",
       "    .dataframe tbody tr th {\n",
       "        vertical-align: top;\n",
       "    }\n",
       "\n",
       "    .dataframe thead th {\n",
       "        text-align: right;\n",
       "    }\n",
       "</style>\n",
       "<table border=\"1\" class=\"dataframe\">\n",
       "  <thead>\n",
       "    <tr style=\"text-align: right;\">\n",
       "      <th></th>\n",
       "      <th>tweet</th>\n",
       "      <th>class_a</th>\n",
       "    </tr>\n",
       "  </thead>\n",
       "  <tbody>\n",
       "    <tr>\n",
       "      <th>0</th>\n",
       "      <td>'whoisq wherestheserver dumpnike declasfisa de...</td>\n",
       "      <td>OFF</td>\n",
       "    </tr>\n",
       "    <tr>\n",
       "      <th>1</th>\n",
       "      <td>'constitutionday is revered by conservatives h...</td>\n",
       "      <td>NOT</td>\n",
       "    </tr>\n",
       "    <tr>\n",
       "      <th>2</th>\n",
       "      <td>'foxnews nra maga potus trump ndamendment rnc ...</td>\n",
       "      <td>NOT</td>\n",
       "    </tr>\n",
       "    <tr>\n",
       "      <th>3</th>\n",
       "      <td>'watching boomer getting the news that she is ...</td>\n",
       "      <td>NOT</td>\n",
       "    </tr>\n",
       "    <tr>\n",
       "      <th>4</th>\n",
       "      <td>'nopasaran unity demo to oppose the farright i...</td>\n",
       "      <td>OFF</td>\n",
       "    </tr>\n",
       "  </tbody>\n",
       "</table>\n",
       "</div>"
      ],
      "text/plain": [
       "                                               tweet class_a\n",
       "0  'whoisq wherestheserver dumpnike declasfisa de...     OFF\n",
       "1  'constitutionday is revered by conservatives h...     NOT\n",
       "2  'foxnews nra maga potus trump ndamendment rnc ...     NOT\n",
       "3  'watching boomer getting the news that she is ...     NOT\n",
       "4  'nopasaran unity demo to oppose the farright i...     OFF"
      ]
     },
     "execution_count": 20,
     "metadata": {},
     "output_type": "execute_result"
    }
   ],
   "source": [
    "test_tweet_a.head()"
   ]
  },
  {
   "cell_type": "code",
   "execution_count": 21,
   "metadata": {},
   "outputs": [],
   "source": [
    "def count_classes(df,task):\n",
    "    sns.countplot(df[task])\n",
    "    plt.title(\"Classes in dataset\")"
   ]
  },
  {
   "cell_type": "code",
   "execution_count": 22,
   "metadata": {},
   "outputs": [
    {
     "data": {
      "image/png": "[encoded data removed]",
      "text/plain": [
       "<Figure size 640x480 with 1 Axes>"
      ]
     },
     "metadata": {},
     "output_type": "display_data"
    }
   ],
   "source": [
    "count_classes(train_task_a_data,\"class_a\")"
   ]
  },
  {
   "cell_type": "code",
   "execution_count": 23,
   "metadata": {},
   "outputs": [
    {
     "data": {
      "image/png": "[encoded data removed]",
      "text/plain": [
       "<Figure size 640x480 with 1 Axes>"
      ]
     },
     "metadata": {},
     "output_type": "display_data"
    }
   ],
   "source": [
    "count_classes(test_tweet_a,\"class_a\")"
   ]
  },
  {
   "attachments": {},
   "cell_type": "markdown",
   "metadata": {},
   "source": [
    "### Bidirectional LSTM\n",
    "\n",
    "#### TASK A"
   ]
  },
  {
   "cell_type": "code",
   "execution_count": 24,
   "metadata": {},
   "outputs": [],
   "source": [
    "# Creating labelEncoder\n",
    "encoder = LabelEncoder()\n",
    "# Converting string labels into numbers.\n",
    "train_task_a_data[\"class_a_code\"] = encoder.fit_transform(train_task_a_data[\"class_a\"])\n",
    "test_tweet_a[\"class_a_code\"] = encoder.fit_transform(test_tweet_a[\"class_a\"])"
   ]
  },
  {
   "cell_type": "code",
   "execution_count": 25,
   "metadata": {},
   "outputs": [
    {
     "data": {
      "text/plain": [
       "array([('OFF', 1), ('NOT', 0)], dtype=object)"
      ]
     },
     "execution_count": 25,
     "metadata": {},
     "output_type": "execute_result"
    }
   ],
   "source": [
    "#Create tuple pair for class and class code\n",
    "train_task_a_data['class-tuple'] = train_task_a_data[['class_a', 'class_a_code']].apply(tuple, axis=1)\n",
    "class_a = train_task_a_data['class-tuple'].unique()\n",
    "class_a"
   ]
  },
  {
   "cell_type": "code",
   "execution_count": 27,
   "metadata": {},
   "outputs": [
    {
     "name": "stdout",
     "output_type": "stream",
     "text": [
      "Shape of train_tweet is (13240,) and shape of train_label is (13240,)\n",
      "Shape of test_tweet is (860,) and shape of test_label is (860,)\n"
     ]
    }
   ],
   "source": [
    "# Label the Data\n",
    "\n",
    "train_tweets = train_task_a_data['tweet']\n",
    "train_labels = train_task_a_data['class_a_code']\n",
    "\n",
    "X_test = test_tweet_a['tweet']\n",
    "y_test = test_tweet_a['class_a_code']\n",
    "\n",
    "\n",
    "print(\"Shape of train_tweet is {} and shape of train_label is {}\".format(train_tweets.shape, train_labels.shape))\n",
    "print(\"Shape of test_tweet is {} and shape of test_label is {}\".format(X_test.shape, y_test.shape))"
   ]
  },
  {
   "cell_type": "code",
   "execution_count": 28,
   "metadata": {},
   "outputs": [
    {
     "name": "stdout",
     "output_type": "stream",
     "text": [
      "Shape of test_tweets is (860,) and shape of test_labels is (860,)\n"
     ]
    }
   ],
   "source": [
    "X_train,X_val,y_train,y_val = train_test_split(train_tweets,train_labels,test_size=0.30,random_state=42)\n",
    "\n",
    "\n",
    "print(\"Shape of test_tweets is {} and shape of test_labels is {}\".format(X_test.shape, y_test.shape))"
   ]
  },
  {
   "cell_type": "code",
   "execution_count": 29,
   "metadata": {},
   "outputs": [],
   "source": [
    "# TOKENIZER\n",
    "max_features = 10000\n",
    "embedding_dim = 128\n",
    "max_len=500\n",
    "\n",
    "tokenizer=Tokenizer(num_words=max_features,oov_token='</OOV>')\n",
    "tokenizer.fit_on_texts(X_train.values)\n",
    "dic=tokenizer.word_index\n",
    "#print(dic)"
   ]
  },
  {
   "cell_type": "code",
   "execution_count": 30,
   "metadata": {},
   "outputs": [
    {
     "name": "stdout",
     "output_type": "stream",
     "text": [
      "train data tensor: (9268, 500)\n"
     ]
    }
   ],
   "source": [
    "# TRAIN\n",
    "X_train_seq = tokenizer.texts_to_sequences(X_train.values)\n",
    "X_train_pad = pad_sequences(X_train_seq, maxlen=max_len)\n",
    "\n",
    "print(\"train data tensor:\" ,X_train_pad.shape)"
   ]
  },
  {
   "cell_type": "code",
   "execution_count": 31,
   "metadata": {},
   "outputs": [
    {
     "name": "stdout",
     "output_type": "stream",
     "text": [
      "test data tensor: (3972, 500)\n"
     ]
    }
   ],
   "source": [
    "# VAL\n",
    "X_val_seq = tokenizer.texts_to_sequences(X_val.values)\n",
    "X_val_pad = pad_sequences(X_val_seq, maxlen=max_len)\n",
    "\n",
    "print(\"test data tensor:\" ,X_val_pad.shape)"
   ]
  },
  {
   "cell_type": "code",
   "execution_count": 32,
   "metadata": {},
   "outputs": [
    {
     "name": "stdout",
     "output_type": "stream",
     "text": [
      "test data tensor: (860, 500)\n"
     ]
    }
   ],
   "source": [
    "# TEST\n",
    "X_test_seq = tokenizer.texts_to_sequences(X_test.values)\n",
    "X_test_pad = pad_sequences(X_test_seq, maxlen=max_len)\n",
    "\n",
    "print(\"test data tensor:\" ,X_test_pad.shape)"
   ]
  },
  {
   "cell_type": "code",
   "execution_count": 33,
   "metadata": {},
   "outputs": [],
   "source": [
    "from keras.models import Sequential\n",
    "from keras.layers import Embedding\n",
    "from keras.layers import Dense\n",
    "from keras.layers import LSTM\n",
    "from keras.layers import Dropout\n",
    "from keras.layers import Bidirectional"
   ]
  },
  {
   "cell_type": "code",
   "execution_count": 34,
   "metadata": {},
   "outputs": [],
   "source": [
    "model= Sequential()\n",
    "model.add(Embedding(max_features,embedding_dim,input_length=max_len))\n",
    "model.add(Bidirectional(LSTM(128, dropout=0.3)))\n",
    "model.add(Dense(128,activation='relu'))\n",
    "model.add(Dropout(0.3))\n",
    "model.add(Dense(1,activation='sigmoid'))"
   ]
  },
  {
   "cell_type": "code",
   "execution_count": 35,
   "metadata": {},
   "outputs": [
    {
     "name": "stdout",
     "output_type": "stream",
     "text": [
      "Model: \"sequential\"\n",
      "_________________________________________________________________\n",
      " Layer (type)                Output Shape              Param #   \n",
      "=================================================================\n",
      " embedding (Embedding)       (None, 500, 128)          1280000   \n",
      "                                                                 \n",
      " bidirectional (Bidirectiona  (None, 256)              263168    \n",
      " l)                                                              \n",
      "                                                                 \n",
      " dense (Dense)               (None, 128)               32896     \n",
      "                                                                 \n",
      " dropout (Dropout)           (None, 128)               0         \n",
      "                                                                 \n",
      " dense_1 (Dense)             (None, 1)                 129       \n",
      "                                                                 \n",
      "=================================================================\n",
      "Total params: 1,576,193\n",
      "Trainable params: 1,576,193\n",
      "Non-trainable params: 0\n",
      "_________________________________________________________________\n"
     ]
    }
   ],
   "source": [
    "model.summary()"
   ]
  },
  {
   "cell_type": "code",
   "execution_count": 36,
   "metadata": {},
   "outputs": [],
   "source": [
    "METRICS = [tf.keras.metrics.BinaryAccuracy(),\n",
    "        tf.keras.metrics.Precision(name=\"precision\"),\n",
    "        tf.keras.metrics.Recall(name=\"recall\")]\n",
    "\n",
    "\n",
    "model.compile(loss='binary_crossentropy',optimizer='adam',metrics=METRICS)"
   ]
  },
  {
   "cell_type": "code",
   "execution_count": 37,
   "metadata": {},
   "outputs": [
    {
     "name": "stdout",
     "output_type": "stream",
     "text": [
      "Epoch 1/10\n",
      "290/290 [==============================] - 270s 917ms/step - loss: 0.6074 - binary_accuracy: 0.6889 - precision: 0.6415 - recall: 0.1360 - val_loss: 0.5436 - val_binary_accuracy: 0.7339 - val_precision: 0.7413 - val_recall: 0.3181\n",
      "Epoch 2/10\n",
      "290/290 [==============================] - 320s 1s/step - loss: 0.4347 - binary_accuracy: 0.8046 - precision: 0.7643 - recall: 0.5921 - val_loss: 0.5482 - val_binary_accuracy: 0.7399 - val_precision: 0.6451 - val_recall: 0.5004\n",
      "Epoch 3/10\n",
      "290/290 [==============================] - 264s 911ms/step - loss: 0.2925 - binary_accuracy: 0.8828 - precision: 0.8504 - recall: 0.7838 - val_loss: 0.6499 - val_binary_accuracy: 0.7075 - val_precision: 0.5674 - val_recall: 0.5401\n",
      "Epoch 4/10\n",
      "290/290 [==============================] - 287s 988ms/step - loss: 0.1974 - binary_accuracy: 0.9277 - precision: 0.9064 - recall: 0.8715 - val_loss: 0.7766 - val_binary_accuracy: 0.7072 - val_precision: 0.5659 - val_recall: 0.5476\n",
      "Epoch 5/10\n",
      "290/290 [==============================] - 293s 1s/step - loss: 0.1322 - binary_accuracy: 0.9528 - precision: 0.9366 - recall: 0.9198 - val_loss: 0.9914 - val_binary_accuracy: 0.6941 - val_precision: 0.5450 - val_recall: 0.5364\n",
      "Epoch 6/10\n",
      "290/290 [==============================] - 259s 893ms/step - loss: 0.0992 - binary_accuracy: 0.9644 - precision: 0.9524 - recall: 0.9394 - val_loss: 1.1880 - val_binary_accuracy: 0.6891 - val_precision: 0.5316 - val_recall: 0.6189\n",
      "Epoch 7/10\n",
      "290/290 [==============================] - 266s 918ms/step - loss: 0.0708 - binary_accuracy: 0.9743 - precision: 0.9654 - recall: 0.9566 - val_loss: 1.3067 - val_binary_accuracy: 0.6853 - val_precision: 0.5270 - val_recall: 0.6069\n",
      "Epoch 8/10\n",
      "290/290 [==============================] - 281s 970ms/step - loss: 0.0620 - binary_accuracy: 0.9766 - precision: 0.9691 - recall: 0.9599 - val_loss: 1.4069 - val_binary_accuracy: 0.6971 - val_precision: 0.5495 - val_recall: 0.5409\n",
      "Epoch 9/10\n",
      "290/290 [==============================] - 265s 915ms/step - loss: 0.0552 - binary_accuracy: 0.9800 - precision: 0.9740 - recall: 0.9654 - val_loss: 1.5296 - val_binary_accuracy: 0.6923 - val_precision: 0.5427 - val_recall: 0.5296\n",
      "Epoch 10/10\n",
      "290/290 [==============================] - 294s 1s/step - loss: 0.0462 - binary_accuracy: 0.9813 - precision: 0.9763 - recall: 0.9671 - val_loss: 1.7018 - val_binary_accuracy: 0.6825 - val_precision: 0.5248 - val_recall: 0.5709\n"
     ]
    }
   ],
   "source": [
    "epochs = 10\n",
    "\n",
    "# Fit the model using the train and test datasets.\n",
    "history = model.fit(X_train_pad,y_train,validation_data=(X_val_pad,y_val), epochs=epochs)"
   ]
  },
  {
   "cell_type": "code",
   "execution_count": 38,
   "metadata": {},
   "outputs": [
    {
     "name": "stdout",
     "output_type": "stream",
     "text": [
      "27/27 [==============================] - 7s 253ms/step - loss: 1.3974 - binary_accuracy: 0.7372 - precision: 0.5263 - recall: 0.5833\n",
      "{'loss': 1.3973636627197266, 'binary_accuracy': 0.7372093200683594, 'precision': 0.5263158082962036, 'recall': 0.5833333134651184}\n"
     ]
    }
   ],
   "source": [
    "scores = model.evaluate(X_test_pad, y_test, return_dict=True)\n",
    "\n",
    "print(scores)"
   ]
  },
  {
   "cell_type": "code",
   "execution_count": 39,
   "metadata": {},
   "outputs": [
    {
     "name": "stdout",
     "output_type": "stream",
     "text": [
      "27/27 [==============================] - 7s 209ms/step\n"
     ]
    }
   ],
   "source": [
    "y_pred = model.predict(X_test_pad)"
   ]
  },
  {
   "cell_type": "code",
   "execution_count": 40,
   "metadata": {},
   "outputs": [],
   "source": [
    "for i in range(len(y_pred)):\n",
    "    if(y_pred[i] > 0.5):\n",
    "        y_pred[i] = 1\n",
    "    else:\n",
    "        y_pred[i] =0 "
   ]
  },
  {
   "cell_type": "code",
   "execution_count": 41,
   "metadata": {},
   "outputs": [
    {
     "name": "stdout",
     "output_type": "stream",
     "text": [
      "              precision    recall  f1-score   support\n",
      "\n",
      "           0       0.83      0.80      0.81       620\n",
      "           1       0.53      0.58      0.55       240\n",
      "\n",
      "    accuracy                           0.74       860\n",
      "   macro avg       0.68      0.69      0.68       860\n",
      "weighted avg       0.75      0.74      0.74       860\n",
      "\n"
     ]
    }
   ],
   "source": [
    "print(classification_report(y_test,y_pred))"
   ]
  },
  {
   "cell_type": "code",
   "execution_count": 42,
   "metadata": {},
   "outputs": [
    {
     "data": {
      "image/png": "[encoded data removed]",
      "text/plain": [
       "<Figure size 640x480 with 2 Axes>"
      ]
     },
     "metadata": {},
     "output_type": "display_data"
    }
   ],
   "source": [
    "def plot_conf_matrix(test_label,predicted_label):\n",
    "    cm = confusion_matrix(test_label,predicted_label)\n",
    "    class_names=[0,1] # name  of classes\n",
    "    fig, ax = plt.subplots()\n",
    "    tick_marks = np.arange(len(class_names))\n",
    "    plt.xticks(tick_marks, class_names)\n",
    "    plt.yticks(tick_marks, class_names)\n",
    "    # create heatmap\n",
    "    sns.heatmap(pd.DataFrame(cm), annot=True, cmap=\"BuPu\" ,fmt='g')\n",
    "    ax.xaxis.set_label_position(\"top\")\n",
    "    plt.tight_layout()\n",
    "    plt.title('Confusion matrix', y=1.1)\n",
    "    plt.ylabel('Actual label')\n",
    "    plt.xlabel('Predicted label');\n",
    "\n",
    "plot_conf_matrix(y_test,y_pred)"
   ]
  },
  {
   "attachments": {},
   "cell_type": "markdown",
   "metadata": {},
   "source": [
    "### Task B"
   ]
  },
  {
   "cell_type": "code",
   "execution_count": 43,
   "metadata": {},
   "outputs": [
    {
     "data": {
      "text/html": [
       "<div>\n",
       "<style scoped>\n",
       "    .dataframe tbody tr th:only-of-type {\n",
       "        vertical-align: middle;\n",
       "    }\n",
       "\n",
       "    .dataframe tbody tr th {\n",
       "        vertical-align: top;\n",
       "    }\n",
       "\n",
       "    .dataframe thead th {\n",
       "        text-align: right;\n",
       "    }\n",
       "</style>\n",
       "<table border=\"1\" class=\"dataframe\">\n",
       "  <thead>\n",
       "    <tr style=\"text-align: right;\">\n",
       "      <th></th>\n",
       "      <th>tweet</th>\n",
       "      <th>class_a</th>\n",
       "      <th>class_a_code</th>\n",
       "      <th>predicted</th>\n",
       "    </tr>\n",
       "  </thead>\n",
       "  <tbody>\n",
       "    <tr>\n",
       "      <th>0</th>\n",
       "      <td>'whoisq wherestheserver dumpnike declasfisa de...</td>\n",
       "      <td>OFF</td>\n",
       "      <td>1</td>\n",
       "      <td>1.0</td>\n",
       "    </tr>\n",
       "    <tr>\n",
       "      <th>5</th>\n",
       "      <td>'what the fuck did he do this time'</td>\n",
       "      <td>OFF</td>\n",
       "      <td>1</td>\n",
       "      <td>1.0</td>\n",
       "    </tr>\n",
       "    <tr>\n",
       "      <th>6</th>\n",
       "      <td>'rap is a form of art used to express yourself...</td>\n",
       "      <td>NOT</td>\n",
       "      <td>0</td>\n",
       "      <td>1.0</td>\n",
       "    </tr>\n",
       "    <tr>\n",
       "      <th>14</th>\n",
       "      <td>'nigga ware da hits at'</td>\n",
       "      <td>OFF</td>\n",
       "      <td>1</td>\n",
       "      <td>1.0</td>\n",
       "    </tr>\n",
       "    <tr>\n",
       "      <th>15</th>\n",
       "      <td>'stopkavanaugh he is liar like the rest of the...</td>\n",
       "      <td>OFF</td>\n",
       "      <td>1</td>\n",
       "      <td>1.0</td>\n",
       "    </tr>\n",
       "  </tbody>\n",
       "</table>\n",
       "</div>"
      ],
      "text/plain": [
       "                                                tweet class_a  class_a_code  \\\n",
       "0   'whoisq wherestheserver dumpnike declasfisa de...     OFF             1   \n",
       "5                 'what the fuck did he do this time'     OFF             1   \n",
       "6   'rap is a form of art used to express yourself...     NOT             0   \n",
       "14                            'nigga ware da hits at'     OFF             1   \n",
       "15  'stopkavanaugh he is liar like the rest of the...     OFF             1   \n",
       "\n",
       "    predicted  \n",
       "0         1.0  \n",
       "5         1.0  \n",
       "6         1.0  \n",
       "14        1.0  \n",
       "15        1.0  "
      ]
     },
     "execution_count": 43,
     "metadata": {},
     "output_type": "execute_result"
    }
   ],
   "source": [
    "# Our predicted OFF - offensive data\n",
    "df_pred = pd.DataFrame(data=y_pred,columns=[\"predicted\"])\n",
    "predicted_data = pd.concat([test_tweet_a, df_pred],axis=1)\n",
    "off_data = predicted_data[predicted_data.predicted ==1]\n",
    "off_data.head()"
   ]
  },
  {
   "cell_type": "code",
   "execution_count": 44,
   "metadata": {},
   "outputs": [
    {
     "name": "stdout",
     "output_type": "stream",
     "text": [
      "(145, 2)\n"
     ]
    },
    {
     "data": {
      "text/html": [
       "<div>\n",
       "<style scoped>\n",
       "    .dataframe tbody tr th:only-of-type {\n",
       "        vertical-align: middle;\n",
       "    }\n",
       "\n",
       "    .dataframe tbody tr th {\n",
       "        vertical-align: top;\n",
       "    }\n",
       "\n",
       "    .dataframe thead th {\n",
       "        text-align: right;\n",
       "    }\n",
       "</style>\n",
       "<table border=\"1\" class=\"dataframe\">\n",
       "  <thead>\n",
       "    <tr style=\"text-align: right;\">\n",
       "      <th></th>\n",
       "      <th>tweet</th>\n",
       "      <th>class_b</th>\n",
       "    </tr>\n",
       "  </thead>\n",
       "  <tbody>\n",
       "    <tr>\n",
       "      <th>0</th>\n",
       "      <td>'whoisq wherestheserver dumpnike declasfisa de...</td>\n",
       "      <td>TIN</td>\n",
       "    </tr>\n",
       "    <tr>\n",
       "      <th>1</th>\n",
       "      <td>'what the fuck did he do this time'</td>\n",
       "      <td>TIN</td>\n",
       "    </tr>\n",
       "    <tr>\n",
       "      <th>2</th>\n",
       "      <td>'nigga ware da hits at'</td>\n",
       "      <td>UNT</td>\n",
       "    </tr>\n",
       "    <tr>\n",
       "      <th>3</th>\n",
       "      <td>'stopkavanaugh he is liar like the rest of the...</td>\n",
       "      <td>TIN</td>\n",
       "    </tr>\n",
       "    <tr>\n",
       "      <th>4</th>\n",
       "      <td>'all familyfriends  do not tell me  bad shit t...</td>\n",
       "      <td>TIN</td>\n",
       "    </tr>\n",
       "  </tbody>\n",
       "</table>\n",
       "</div>"
      ],
      "text/plain": [
       "                                               tweet class_b\n",
       "0  'whoisq wherestheserver dumpnike declasfisa de...     TIN\n",
       "1                'what the fuck did he do this time'     TIN\n",
       "2                            'nigga ware da hits at'     UNT\n",
       "3  'stopkavanaugh he is liar like the rest of the...     TIN\n",
       "4  'all familyfriends  do not tell me  bad shit t...     TIN"
      ]
     },
     "execution_count": 44,
     "metadata": {},
     "output_type": "execute_result"
    }
   ],
   "source": [
    "# prepare test data for task B\n",
    "test_b = off_data.merge(test_tweet_b,on=\"tweet\")\n",
    "test_b = test_b[[\"tweet\",\"class_b\"]]\n",
    "print(test_b.shape)\n",
    "test_b.head()"
   ]
  },
  {
   "cell_type": "code",
   "execution_count": 45,
   "metadata": {},
   "outputs": [
    {
     "name": "stdout",
     "output_type": "stream",
     "text": [
      "Data shape without undersampling: (4400, 2)\n",
      "Data shape with undersampling (1524, 2)\n"
     ]
    },
    {
     "data": {
      "text/html": [
       "<div>\n",
       "<style scoped>\n",
       "    .dataframe tbody tr th:only-of-type {\n",
       "        vertical-align: middle;\n",
       "    }\n",
       "\n",
       "    .dataframe tbody tr th {\n",
       "        vertical-align: top;\n",
       "    }\n",
       "\n",
       "    .dataframe thead th {\n",
       "        text-align: right;\n",
       "    }\n",
       "</style>\n",
       "<table border=\"1\" class=\"dataframe\">\n",
       "  <thead>\n",
       "    <tr style=\"text-align: right;\">\n",
       "      <th></th>\n",
       "      <th>tweet</th>\n",
       "      <th>class_b</th>\n",
       "    </tr>\n",
       "  </thead>\n",
       "  <tbody>\n",
       "    <tr>\n",
       "      <th>0</th>\n",
       "      <td>'she should ask a few native americans what th...</td>\n",
       "      <td>UNT</td>\n",
       "    </tr>\n",
       "    <tr>\n",
       "      <th>3</th>\n",
       "      <td>'someone shouldvetaken this piece of shit to a...</td>\n",
       "      <td>UNT</td>\n",
       "    </tr>\n",
       "    <tr>\n",
       "      <th>6</th>\n",
       "      <td>'oh noes tough shit'</td>\n",
       "      <td>UNT</td>\n",
       "    </tr>\n",
       "    <tr>\n",
       "      <th>29</th>\n",
       "      <td>'she  to whom are you referring to  hillary  y...</td>\n",
       "      <td>UNT</td>\n",
       "    </tr>\n",
       "    <tr>\n",
       "      <th>111</th>\n",
       "      <td>'its literally a narrative that is on par with...</td>\n",
       "      <td>UNT</td>\n",
       "    </tr>\n",
       "  </tbody>\n",
       "</table>\n",
       "</div>"
      ],
      "text/plain": [
       "                                                 tweet class_b\n",
       "0    'she should ask a few native americans what th...     UNT\n",
       "3    'someone shouldvetaken this piece of shit to a...     UNT\n",
       "6                                 'oh noes tough shit'     UNT\n",
       "29   'she  to whom are you referring to  hillary  y...     UNT\n",
       "111  'its literally a narrative that is on par with...     UNT"
      ]
     },
     "execution_count": 45,
     "metadata": {},
     "output_type": "execute_result"
    }
   ],
   "source": [
    "# prepare train data for task B\n",
    "# dataframe task_a and task_b merged\n",
    "df_a_b = pd.concat([train_task_a_data,train_task_b_data],axis=1)\n",
    "df_a_b = df_a_b[df_a_b.class_a ==\"OFF\"]\n",
    "df_a_b = df_a_b[[\"tweet\",\"class_b\"]]\n",
    "df_a_b= df_a_b.T.drop_duplicates().T\n",
    "train_b = df_a_b.copy()\n",
    "print(\"Data shape without undersampling:\",train_b.shape)\n",
    "train_b.head()\n",
    "\n",
    "train_b_unt = train_b[train_b[\"class_b\"] == \"UNT\"]\n",
    "train_b_tin = train_b[train_b[\"class_b\"] == \"TIN\"]\n",
    "train_b_tin = train_b_tin.sample(1000)\n",
    "train_b_new = pd.concat([train_b_unt,train_b_tin])\n",
    "print(\"Data shape with undersampling\",train_b_new.shape)\n",
    "train_b_new.head()"
   ]
  },
  {
   "cell_type": "code",
   "execution_count": 46,
   "metadata": {},
   "outputs": [
    {
     "data": {
      "image/png": "[encoded data removed]",
      "text/plain": [
       "<Figure size 640x480 with 1 Axes>"
      ]
     },
     "metadata": {},
     "output_type": "display_data"
    }
   ],
   "source": [
    "# Before under-sampling the train data<\n",
    "count_classes(train_b,\"class_b\")"
   ]
  },
  {
   "cell_type": "code",
   "execution_count": 47,
   "metadata": {},
   "outputs": [
    {
     "data": {
      "image/png": "[encoded data removed]",
      "text/plain": [
       "<Figure size 640x480 with 1 Axes>"
      ]
     },
     "metadata": {},
     "output_type": "display_data"
    }
   ],
   "source": [
    "# After under-sampling the train data\n",
    "count_classes(train_b_new,\"class_b\")"
   ]
  },
  {
   "cell_type": "code",
   "execution_count": 48,
   "metadata": {},
   "outputs": [
    {
     "data": {
      "image/png": "[encoded data removed]",
      "text/plain": [
       "<Figure size 640x480 with 1 Axes>"
      ]
     },
     "metadata": {},
     "output_type": "display_data"
    }
   ],
   "source": [
    "# Plot test data \n",
    "count_classes(test_b,\"class_b\")"
   ]
  },
  {
   "cell_type": "code",
   "execution_count": 49,
   "metadata": {},
   "outputs": [],
   "source": [
    "#creating labelEncoder\n",
    "encoder = LabelEncoder()\n",
    "# Converting string labels into numbers.\n",
    "train_b[\"class_b_code\"] = encoder.fit_transform(train_b[\"class_b\"])\n",
    "train_b_new[\"class_b_code\"] = encoder.fit_transform(train_b_new[\"class_b\"])\n",
    "test_b[\"class_b_code\"] = encoder.fit_transform(test_b[\"class_b\"])"
   ]
  },
  {
   "cell_type": "code",
   "execution_count": 50,
   "metadata": {},
   "outputs": [
    {
     "data": {
      "text/plain": [
       "array([('UNT', 1), ('TIN', 0)], dtype=object)"
      ]
     },
     "execution_count": 50,
     "metadata": {},
     "output_type": "execute_result"
    }
   ],
   "source": [
    "#Create tuple pair for class and class code\n",
    "train_b['class-tuple'] = train_b[['class_b', 'class_b_code']].apply(tuple, axis=1)\n",
    "class_b = train_b['class-tuple'].unique()\n",
    "class_b"
   ]
  },
  {
   "cell_type": "code",
   "execution_count": 51,
   "metadata": {},
   "outputs": [
    {
     "name": "stdout",
     "output_type": "stream",
     "text": [
      "Shape of X_train is (1066,) and shape of y_train is (1066,)\n",
      "Shape of X_test is (145,) and shape of y_test is (145,)\n",
      "Shape of test_tweets is (145,) and shape of test_labels is (145,)\n"
     ]
    }
   ],
   "source": [
    "# Set the labels and train-test split\n",
    "\n",
    "train_tweets = train_b_new['tweet']\n",
    "train_labels = train_b_new['class_b_code']\n",
    "\n",
    "X_test = test_b['tweet']\n",
    "y_test = test_b['class_b_code']\n",
    "\n",
    "X_train,X_val,y_train,y_val = train_test_split(train_tweets,train_labels,test_size=0.30,random_state=42)\n",
    "\n",
    "print(\"Shape of X_train is {} and shape of y_train is {}\".format(X_train.shape, y_train.shape))\n",
    "print(\"Shape of X_test is {} and shape of y_test is {}\".format(X_test.shape, y_test.shape))\n",
    "\n",
    "print(\"Shape of test_tweets is {} and shape of test_labels is {}\".format(X_test.shape, y_test.shape))"
   ]
  },
  {
   "cell_type": "code",
   "execution_count": 52,
   "metadata": {},
   "outputs": [
    {
     "name": "stdout",
     "output_type": "stream",
     "text": [
      "train data tensor: (1066, 500)\n"
     ]
    }
   ],
   "source": [
    "# TRAIN\n",
    "X_train_seq = tokenizer.texts_to_sequences(X_train.values)\n",
    "X_train_pad = pad_sequences(X_train_seq, maxlen=max_len)\n",
    "\n",
    "print(\"train data tensor:\" ,X_train_pad.shape)"
   ]
  },
  {
   "cell_type": "code",
   "execution_count": 53,
   "metadata": {},
   "outputs": [
    {
     "name": "stdout",
     "output_type": "stream",
     "text": [
      "test data tensor: (458, 500)\n"
     ]
    }
   ],
   "source": [
    "# VAL\n",
    "X_val_seq = tokenizer.texts_to_sequences(X_val.values)\n",
    "X_val_pad = pad_sequences(X_val_seq, maxlen=max_len)\n",
    "\n",
    "print(\"test data tensor:\" ,X_val_pad.shape)"
   ]
  },
  {
   "cell_type": "code",
   "execution_count": 54,
   "metadata": {},
   "outputs": [
    {
     "name": "stdout",
     "output_type": "stream",
     "text": [
      "test data tensor: (145, 500)\n"
     ]
    }
   ],
   "source": [
    "# TEST\n",
    "X_test_seq = tokenizer.texts_to_sequences(X_test.values)\n",
    "X_test_pad = pad_sequences(X_test_seq, maxlen=max_len)\n",
    "\n",
    "print(\"test data tensor:\" ,X_test_pad.shape)"
   ]
  },
  {
   "cell_type": "code",
   "execution_count": 55,
   "metadata": {},
   "outputs": [
    {
     "name": "stdout",
     "output_type": "stream",
     "text": [
      "Epoch 1/10\n",
      "34/34 [==============================] - 37s 1s/step - loss: 1.0963 - binary_accuracy: 0.6182 - precision: 0.4068 - recall: 0.1925 - val_loss: 0.6341 - val_binary_accuracy: 0.6725 - val_precision: 0.0000e+00 - val_recall: 0.0000e+00\n",
      "Epoch 2/10\n",
      "34/34 [==============================] - 30s 892ms/step - loss: 0.6542 - binary_accuracy: 0.6492 - precision: 0.0000e+00 - recall: 0.0000e+00 - val_loss: 0.6413 - val_binary_accuracy: 0.6725 - val_precision: 0.0000e+00 - val_recall: 0.0000e+00\n",
      "Epoch 3/10\n",
      "34/34 [==============================] - 30s 892ms/step - loss: 0.6239 - binary_accuracy: 0.6492 - precision: 0.0000e+00 - recall: 0.0000e+00 - val_loss: 0.6329 - val_binary_accuracy: 0.6725 - val_precision: 0.0000e+00 - val_recall: 0.0000e+00\n",
      "Epoch 4/10\n",
      "34/34 [==============================] - 30s 884ms/step - loss: 0.6042 - binary_accuracy: 0.6492 - precision: 0.0000e+00 - recall: 0.0000e+00 - val_loss: 0.6460 - val_binary_accuracy: 0.6725 - val_precision: 0.0000e+00 - val_recall: 0.0000e+00\n",
      "Epoch 5/10\n",
      "34/34 [==============================] - 29s 844ms/step - loss: 0.5614 - binary_accuracy: 0.6492 - precision: 0.0000e+00 - recall: 0.0000e+00 - val_loss: 0.6665 - val_binary_accuracy: 0.6725 - val_precision: 0.0000e+00 - val_recall: 0.0000e+00\n",
      "Epoch 6/10\n",
      "34/34 [==============================] - 33s 967ms/step - loss: 0.4966 - binary_accuracy: 0.6492 - precision: 0.0000e+00 - recall: 0.0000e+00 - val_loss: 0.8375 - val_binary_accuracy: 0.6725 - val_precision: 0.0000e+00 - val_recall: 0.0000e+00\n",
      "Epoch 7/10\n",
      "34/34 [==============================] - 36s 1s/step - loss: 0.4187 - binary_accuracy: 0.7608 - precision: 0.7960 - recall: 0.4278 - val_loss: 0.7241 - val_binary_accuracy: 0.6725 - val_precision: 0.5000 - val_recall: 0.3533\n",
      "Epoch 8/10\n",
      "34/34 [==============================] - 34s 996ms/step - loss: 0.3576 - binary_accuracy: 0.8752 - precision: 0.8301 - recall: 0.8102 - val_loss: 0.8684 - val_binary_accuracy: 0.6878 - val_precision: 0.5393 - val_recall: 0.3200\n",
      "Epoch 9/10\n",
      "34/34 [==============================] - 40s 1s/step - loss: 0.3076 - binary_accuracy: 0.9109 - precision: 0.8720 - recall: 0.8743 - val_loss: 1.0098 - val_binary_accuracy: 0.6397 - val_precision: 0.4490 - val_recall: 0.4400\n",
      "Epoch 10/10\n",
      "34/34 [==============================] - 33s 967ms/step - loss: 0.2774 - binary_accuracy: 0.9371 - precision: 0.8847 - recall: 0.9439 - val_loss: 1.2954 - val_binary_accuracy: 0.6550 - val_precision: 0.4672 - val_recall: 0.3800\n"
     ]
    }
   ],
   "source": [
    "epochs = 10\n",
    "\n",
    "# Fit the model using the train and test datasets.\n",
    "history = model.fit(X_train_pad,y_train,validation_data=(X_val_pad,y_val), epochs=epochs)"
   ]
  },
  {
   "cell_type": "code",
   "execution_count": 56,
   "metadata": {},
   "outputs": [
    {
     "name": "stdout",
     "output_type": "stream",
     "text": [
      "5/5 [==============================] - 1s 206ms/step - loss: 0.3286 - binary_accuracy: 0.7517 - precision: 0.2857 - recall: 0.6667\n",
      "{'loss': 0.32858413457870483, 'binary_accuracy': 0.751724123954773, 'precision': 0.2857142984867096, 'recall': 0.6666666865348816}\n"
     ]
    }
   ],
   "source": [
    "scores = model.evaluate(X_test_pad, y_test, return_dict=True)\n",
    "\n",
    "print(scores)"
   ]
  },
  {
   "cell_type": "code",
   "execution_count": 57,
   "metadata": {},
   "outputs": [
    {
     "name": "stdout",
     "output_type": "stream",
     "text": [
      "5/5 [==============================] - 1s 184ms/step\n"
     ]
    }
   ],
   "source": [
    "y_pred = model.predict(X_test_pad)"
   ]
  },
  {
   "cell_type": "code",
   "execution_count": 58,
   "metadata": {},
   "outputs": [],
   "source": [
    "for i in range(len(y_pred)):\n",
    "    if(y_pred[i] > 0.5):\n",
    "        y_pred[i] = 1\n",
    "    else:\n",
    "        y_pred[i] =0 "
   ]
  },
  {
   "cell_type": "code",
   "execution_count": 59,
   "metadata": {},
   "outputs": [
    {
     "name": "stdout",
     "output_type": "stream",
     "text": [
      "              precision    recall  f1-score   support\n",
      "\n",
      "           0       0.94      0.76      0.84       127\n",
      "           1       0.29      0.67      0.40        18\n",
      "\n",
      "    accuracy                           0.75       145\n",
      "   macro avg       0.61      0.72      0.62       145\n",
      "weighted avg       0.86      0.75      0.79       145\n",
      "\n"
     ]
    }
   ],
   "source": [
    "print(classification_report(y_test,y_pred))"
   ]
  },
  {
   "cell_type": "code",
   "execution_count": 60,
   "metadata": {},
   "outputs": [
    {
     "data": {
      "image/png": "[encoded data removed]",
      "text/plain": [
       "<Figure size 640x480 with 2 Axes>"
      ]
     },
     "metadata": {},
     "output_type": "display_data"
    }
   ],
   "source": [
    "plot_conf_matrix(y_test,y_pred)"
   ]
  },
  {
   "attachments": {},
   "cell_type": "markdown",
   "metadata": {},
   "source": [
    "### Task C"
   ]
  },
  {
   "cell_type": "code",
   "execution_count": 61,
   "metadata": {},
   "outputs": [
    {
     "name": "stdout",
     "output_type": "stream",
     "text": [
      "(103, 3)\n"
     ]
    },
    {
     "data": {
      "text/html": [
       "<div>\n",
       "<style scoped>\n",
       "    .dataframe tbody tr th:only-of-type {\n",
       "        vertical-align: middle;\n",
       "    }\n",
       "\n",
       "    .dataframe tbody tr th {\n",
       "        vertical-align: top;\n",
       "    }\n",
       "\n",
       "    .dataframe thead th {\n",
       "        text-align: right;\n",
       "    }\n",
       "</style>\n",
       "<table border=\"1\" class=\"dataframe\">\n",
       "  <thead>\n",
       "    <tr style=\"text-align: right;\">\n",
       "      <th></th>\n",
       "      <th>tweet</th>\n",
       "      <th>class_b</th>\n",
       "      <th>predicted</th>\n",
       "    </tr>\n",
       "  </thead>\n",
       "  <tbody>\n",
       "    <tr>\n",
       "      <th>0</th>\n",
       "      <td>'whoisq wherestheserver dumpnike declasfisa de...</td>\n",
       "      <td>TIN</td>\n",
       "      <td>0.0</td>\n",
       "    </tr>\n",
       "    <tr>\n",
       "      <th>3</th>\n",
       "      <td>'do you get the feeling he is kissing  behind ...</td>\n",
       "      <td>TIN</td>\n",
       "      <td>0.0</td>\n",
       "    </tr>\n",
       "    <tr>\n",
       "      <th>4</th>\n",
       "      <td>'nigga ware da hits at'</td>\n",
       "      <td>UNT</td>\n",
       "      <td>0.0</td>\n",
       "    </tr>\n",
       "    <tr>\n",
       "      <th>6</th>\n",
       "      <td>'put delauro in a police lineup identifying th...</td>\n",
       "      <td>TIN</td>\n",
       "      <td>0.0</td>\n",
       "    </tr>\n",
       "    <tr>\n",
       "      <th>7</th>\n",
       "      <td>'all familyfriends  do not tell me  bad shit t...</td>\n",
       "      <td>TIN</td>\n",
       "      <td>0.0</td>\n",
       "    </tr>\n",
       "  </tbody>\n",
       "</table>\n",
       "</div>"
      ],
      "text/plain": [
       "                                               tweet class_b  predicted\n",
       "0  'whoisq wherestheserver dumpnike declasfisa de...     TIN        0.0\n",
       "3  'do you get the feeling he is kissing  behind ...     TIN        0.0\n",
       "4                            'nigga ware da hits at'     UNT        0.0\n",
       "6  'put delauro in a police lineup identifying th...     TIN        0.0\n",
       "7  'all familyfriends  do not tell me  bad shit t...     TIN        0.0"
      ]
     },
     "execution_count": 61,
     "metadata": {},
     "output_type": "execute_result"
    }
   ],
   "source": [
    "# Our predicted TIN - Targeted Insult data\n",
    "df_pred = pd.DataFrame(data=y_pred,columns=[\"predicted\"])\n",
    "predicted_data = pd.concat([test_tweet_b, df_pred],axis=1)\n",
    "tin_data = predicted_data[predicted_data.predicted ==0]\n",
    "print(tin_data.shape)\n",
    "tin_data.head()"
   ]
  },
  {
   "cell_type": "code",
   "execution_count": 62,
   "metadata": {},
   "outputs": [
    {
     "name": "stdout",
     "output_type": "stream",
     "text": [
      "(94, 2)\n"
     ]
    },
    {
     "data": {
      "text/html": [
       "<div>\n",
       "<style scoped>\n",
       "    .dataframe tbody tr th:only-of-type {\n",
       "        vertical-align: middle;\n",
       "    }\n",
       "\n",
       "    .dataframe tbody tr th {\n",
       "        vertical-align: top;\n",
       "    }\n",
       "\n",
       "    .dataframe thead th {\n",
       "        text-align: right;\n",
       "    }\n",
       "</style>\n",
       "<table border=\"1\" class=\"dataframe\">\n",
       "  <thead>\n",
       "    <tr style=\"text-align: right;\">\n",
       "      <th></th>\n",
       "      <th>tweet</th>\n",
       "      <th>class_c</th>\n",
       "    </tr>\n",
       "  </thead>\n",
       "  <tbody>\n",
       "    <tr>\n",
       "      <th>0</th>\n",
       "      <td>'whoisq wherestheserver dumpnike declasfisa de...</td>\n",
       "      <td>OTH</td>\n",
       "    </tr>\n",
       "    <tr>\n",
       "      <th>1</th>\n",
       "      <td>'do you get the feeling he is kissing  behind ...</td>\n",
       "      <td>OTH</td>\n",
       "    </tr>\n",
       "    <tr>\n",
       "      <th>2</th>\n",
       "      <td>'put delauro in a police lineup identifying th...</td>\n",
       "      <td>IND</td>\n",
       "    </tr>\n",
       "    <tr>\n",
       "      <th>3</th>\n",
       "      <td>'all familyfriends  do not tell me  bad shit t...</td>\n",
       "      <td>GRP</td>\n",
       "    </tr>\n",
       "    <tr>\n",
       "      <th>4</th>\n",
       "      <td>'christineblaseyford is your kavanaugh accuser...</td>\n",
       "      <td>IND</td>\n",
       "    </tr>\n",
       "  </tbody>\n",
       "</table>\n",
       "</div>"
      ],
      "text/plain": [
       "                                               tweet class_c\n",
       "0  'whoisq wherestheserver dumpnike declasfisa de...     OTH\n",
       "1  'do you get the feeling he is kissing  behind ...     OTH\n",
       "2  'put delauro in a police lineup identifying th...     IND\n",
       "3  'all familyfriends  do not tell me  bad shit t...     GRP\n",
       "4  'christineblaseyford is your kavanaugh accuser...     IND"
      ]
     },
     "execution_count": 62,
     "metadata": {},
     "output_type": "execute_result"
    }
   ],
   "source": [
    "# prepare test data for task C\n",
    "test_c = tin_data.merge(test_tweet_c,on=\"tweet\")\n",
    "test_c = test_c[[\"tweet\",\"class_c\"]]\n",
    "print(test_c.shape)\n",
    "test_c.head()"
   ]
  },
  {
   "cell_type": "code",
   "execution_count": 63,
   "metadata": {},
   "outputs": [
    {
     "name": "stdout",
     "output_type": "stream",
     "text": [
      "Data shape without over and undersampling: (3876, 2)\n",
      "Data shape with undersampling (3500, 2)\n"
     ]
    },
    {
     "data": {
      "text/html": [
       "<div>\n",
       "<style scoped>\n",
       "    .dataframe tbody tr th:only-of-type {\n",
       "        vertical-align: middle;\n",
       "    }\n",
       "\n",
       "    .dataframe tbody tr th {\n",
       "        vertical-align: top;\n",
       "    }\n",
       "\n",
       "    .dataframe thead th {\n",
       "        text-align: right;\n",
       "    }\n",
       "</style>\n",
       "<table border=\"1\" class=\"dataframe\">\n",
       "  <thead>\n",
       "    <tr style=\"text-align: right;\">\n",
       "      <th></th>\n",
       "      <th>tweet</th>\n",
       "      <th>class_c</th>\n",
       "    </tr>\n",
       "  </thead>\n",
       "  <tbody>\n",
       "    <tr>\n",
       "      <th>7131</th>\n",
       "      <td>'now you touched visamatas raw nerve by saying...</td>\n",
       "      <td>IND</td>\n",
       "    </tr>\n",
       "    <tr>\n",
       "      <th>13052</th>\n",
       "      <td>'at an antifa riot and screaming at white people'</td>\n",
       "      <td>IND</td>\n",
       "    </tr>\n",
       "    <tr>\n",
       "      <th>3565</th>\n",
       "      <td>'truthfeed news   just in fbi deals yet anothe...</td>\n",
       "      <td>IND</td>\n",
       "    </tr>\n",
       "    <tr>\n",
       "      <th>8632</th>\n",
       "      <td>'hes not an opportunistic liar nor have you pr...</td>\n",
       "      <td>IND</td>\n",
       "    </tr>\n",
       "    <tr>\n",
       "      <th>5540</th>\n",
       "      <td>'surely he didnt do anything to damage veteren...</td>\n",
       "      <td>IND</td>\n",
       "    </tr>\n",
       "  </tbody>\n",
       "</table>\n",
       "</div>"
      ],
      "text/plain": [
       "                                                   tweet class_c\n",
       "7131   'now you touched visamatas raw nerve by saying...     IND\n",
       "13052  'at an antifa riot and screaming at white people'     IND\n",
       "3565   'truthfeed news   just in fbi deals yet anothe...     IND\n",
       "8632   'hes not an opportunistic liar nor have you pr...     IND\n",
       "5540   'surely he didnt do anything to damage veteren...     IND"
      ]
     },
     "execution_count": 63,
     "metadata": {},
     "output_type": "execute_result"
    }
   ],
   "source": [
    "# prepare train data for task C\n",
    "# dataframe task_b and task_c merged\n",
    "df_b_c = pd.concat([train_task_b_data,train_task_c_data],axis=1)\n",
    "df_b_c = df_b_c[df_b_c.class_b ==\"TIN\"]\n",
    "df_b_c = df_b_c[[\"tweet\",\"class_c\"]]\n",
    "df_b_c= df_b_c.T.drop_duplicates().T\n",
    "train_c = df_b_c.copy()\n",
    "print(\"Data shape without over and undersampling:\",train_c.shape)\n",
    "train_c.head()\n",
    "\n",
    "\n",
    "train_c_ind = train_c[train_c[\"class_c\"] == \"IND\"]\n",
    "train_c_oth = train_c[train_c[\"class_c\"] == \"OTH\"]\n",
    "train_c_grp = train_c[train_c[\"class_c\"] == \"GRP\"]\n",
    "train_c_ind = train_c_ind.sample(1500)\n",
    "train_c_oth = train_c_oth.sample(1000, replace=True)\n",
    "train_c_grp = train_c_grp.sample(1000)\n",
    "train_c_new = pd.concat([train_c_ind,train_c_oth,train_c_grp])\n",
    "print(\"Data shape with undersampling\",train_c_new.shape)\n",
    "train_c_new.head()"
   ]
  },
  {
   "cell_type": "code",
   "execution_count": 64,
   "metadata": {},
   "outputs": [
    {
     "data": {
      "image/png": "[encoded data removed]",
      "text/plain": [
       "<Figure size 640x480 with 1 Axes>"
      ]
     },
     "metadata": {},
     "output_type": "display_data"
    }
   ],
   "source": [
    "# Plot the train data without over and undersapmling the classes\n",
    "\n",
    "count_classes(train_c,\"class_c\")"
   ]
  },
  {
   "cell_type": "code",
   "execution_count": 65,
   "metadata": {},
   "outputs": [
    {
     "data": {
      "image/png": "[encoded data removed]",
      "text/plain": [
       "<Figure size 640x480 with 1 Axes>"
      ]
     },
     "metadata": {},
     "output_type": "display_data"
    }
   ],
   "source": [
    "# Plot the train data with over and undersapmling the classes\n",
    "\n",
    "count_classes(train_c_new,\"class_c\")"
   ]
  },
  {
   "cell_type": "code",
   "execution_count": 66,
   "metadata": {},
   "outputs": [
    {
     "data": {
      "image/png": "[encoded data removed]",
      "text/plain": [
       "<Figure size 640x480 with 1 Axes>"
      ]
     },
     "metadata": {},
     "output_type": "display_data"
    }
   ],
   "source": [
    "# Plot test data \n",
    "count_classes(test_c,\"class_c\")"
   ]
  },
  {
   "cell_type": "code",
   "execution_count": 67,
   "metadata": {},
   "outputs": [],
   "source": [
    "#creating labelEncoder\n",
    "encoder = LabelEncoder()\n",
    "# Converting string labels into numbers.\n",
    "train_c[\"class_c_code\"] = encoder.fit_transform(train_c[\"class_c\"])\n",
    "train_c_new[\"class_c_code\"] = encoder.fit_transform(train_c_new[\"class_c\"])\n",
    "test_c[\"class_c_code\"] = encoder.fit_transform(test_c[\"class_c\"])"
   ]
  },
  {
   "cell_type": "code",
   "execution_count": 68,
   "metadata": {},
   "outputs": [
    {
     "data": {
      "text/plain": [
       "array([('IND', 1), ('OTH', 2), ('GRP', 0)], dtype=object)"
      ]
     },
     "execution_count": 68,
     "metadata": {},
     "output_type": "execute_result"
    }
   ],
   "source": [
    "#Create tuple pair for class and class code\n",
    "train_c['class-tuple'] = train_c[['class_c', 'class_c_code']].apply(tuple, axis=1)\n",
    "class_c = train_c['class-tuple'].unique()\n",
    "class_c"
   ]
  },
  {
   "cell_type": "code",
   "execution_count": 69,
   "metadata": {},
   "outputs": [
    {
     "name": "stdout",
     "output_type": "stream",
     "text": [
      "Shape of X_train is (2450,) and shape of y_train is (2450,)\n",
      "Shape of X_test is (1050,) and shape of y_test is (1050,)\n",
      "Shape of test_tweets is (94,) and shape of test_labels is (94,)\n"
     ]
    }
   ],
   "source": [
    "# Set the labels and train-test split\n",
    "\n",
    "train_tweets = train_c_new['tweet']\n",
    "train_labels = train_c_new['class_c_code']\n",
    "\n",
    "X_test = test_c['tweet']\n",
    "y_test = test_c['class_c_code']\n",
    "\n",
    "X_train,X_val,y_train,y_val = train_test_split(train_tweets,train_labels,test_size=0.30,random_state=42)\n",
    "\n",
    "print(\"Shape of X_train is {} and shape of y_train is {}\".format(X_train.shape, y_train.shape))\n",
    "print(\"Shape of X_test is {} and shape of y_test is {}\".format(X_val.shape, y_val.shape))\n",
    "\n",
    "print(\"Shape of test_tweets is {} and shape of test_labels is {}\".format(X_test.shape, y_test.shape))"
   ]
  },
  {
   "cell_type": "code",
   "execution_count": 70,
   "metadata": {},
   "outputs": [
    {
     "name": "stdout",
     "output_type": "stream",
     "text": [
      "train data tensor: (2450, 500)\n"
     ]
    }
   ],
   "source": [
    "# TRAIN\n",
    "X_train_seq = tokenizer.texts_to_sequences(X_train.values)\n",
    "X_train_pad = pad_sequences(X_train_seq, maxlen=max_len)\n",
    "\n",
    "print(\"train data tensor:\" ,X_train_pad.shape)"
   ]
  },
  {
   "cell_type": "code",
   "execution_count": 71,
   "metadata": {},
   "outputs": [
    {
     "name": "stdout",
     "output_type": "stream",
     "text": [
      "test data tensor: (1050, 500)\n"
     ]
    }
   ],
   "source": [
    "# VAL\n",
    "X_val_seq = tokenizer.texts_to_sequences(X_val.values)\n",
    "X_val_pad = pad_sequences(X_val_seq, maxlen=max_len)\n",
    "\n",
    "print(\"test data tensor:\" ,X_val_pad.shape)"
   ]
  },
  {
   "cell_type": "code",
   "execution_count": 72,
   "metadata": {},
   "outputs": [
    {
     "name": "stdout",
     "output_type": "stream",
     "text": [
      "test data tensor: (94, 500)\n"
     ]
    }
   ],
   "source": [
    "# TEST\n",
    "X_test_seq = tokenizer.texts_to_sequences(X_test.values)\n",
    "X_test_pad = pad_sequences(X_test_seq, maxlen=max_len)\n",
    "\n",
    "print(\"test data tensor:\" ,X_test_pad.shape)"
   ]
  },
  {
   "cell_type": "code",
   "execution_count": 73,
   "metadata": {},
   "outputs": [],
   "source": [
    "model= Sequential()\n",
    "model.add(Embedding(max_features,embedding_dim,input_length=max_len))\n",
    "model.add(Bidirectional(LSTM(128, dropout=0.3)))\n",
    "model.add(Dense(128,activation='relu'))\n",
    "model.add(Dropout(0.3))\n",
    "model.add(Dense(1,activation='sigmoid'))"
   ]
  },
  {
   "cell_type": "code",
   "execution_count": 74,
   "metadata": {},
   "outputs": [],
   "source": [
    "METRICS = [tf.keras.metrics.CategoricalAccuracy(),\n",
    "        tf.keras.metrics.Precision(name=\"precision\"),\n",
    "        tf.keras.metrics.Recall(name=\"recall\")]\n",
    "\n",
    "\n",
    "model.compile(loss='categorical_crossentropy',optimizer='adam',metrics=METRICS)"
   ]
  },
  {
   "cell_type": "code",
   "execution_count": 75,
   "metadata": {},
   "outputs": [
    {
     "name": "stdout",
     "output_type": "stream",
     "text": [
      "Epoch 1/10\n",
      "77/77 [==============================] - 79s 888ms/step - loss: 0.0000e+00 - categorical_accuracy: 1.0000 - precision: 0.7108 - recall: 0.9977 - val_loss: 0.0000e+00 - val_categorical_accuracy: 1.0000 - val_precision: 0.7219 - val_recall: 1.0000\n",
      "Epoch 2/10\n",
      "77/77 [==============================] - 68s 879ms/step - loss: 0.0000e+00 - categorical_accuracy: 1.0000 - precision: 0.7922 - recall: 0.7486 - val_loss: 0.0000e+00 - val_categorical_accuracy: 1.0000 - val_precision: 0.8364 - val_recall: 0.6069\n",
      "Epoch 3/10\n",
      "77/77 [==============================] - 67s 871ms/step - loss: 0.0000e+00 - categorical_accuracy: 1.0000 - precision: 0.9255 - recall: 0.0499 - val_loss: 0.0000e+00 - val_categorical_accuracy: 1.0000 - val_precision: 0.0000e+00 - val_recall: 0.0000e+00\n",
      "Epoch 4/10\n",
      "77/77 [==============================] - 66s 862ms/step - loss: 0.0000e+00 - categorical_accuracy: 1.0000 - precision: 0.7810 - recall: 0.8536 - val_loss: 0.0000e+00 - val_categorical_accuracy: 1.0000 - val_precision: 0.7393 - val_recall: 0.8865\n",
      "Epoch 5/10\n",
      "77/77 [==============================] - 94s 1s/step - loss: 0.0000e+00 - categorical_accuracy: 1.0000 - precision: 0.7852 - recall: 0.8898 - val_loss: 0.0000e+00 - val_categorical_accuracy: 1.0000 - val_precision: 0.7370 - val_recall: 0.8760\n",
      "Epoch 6/10\n",
      "77/77 [==============================] - 78s 1s/step - loss: 0.0000e+00 - categorical_accuracy: 1.0000 - precision: 0.7986 - recall: 0.8875 - val_loss: 0.0000e+00 - val_categorical_accuracy: 1.0000 - val_precision: 0.7360 - val_recall: 0.8681\n",
      "Epoch 7/10\n",
      "77/77 [==============================] - 70s 909ms/step - loss: 0.0000e+00 - categorical_accuracy: 1.0000 - precision: 0.7940 - recall: 0.8783 - val_loss: 0.0000e+00 - val_categorical_accuracy: 1.0000 - val_precision: 0.7379 - val_recall: 0.8654\n",
      "Epoch 8/10\n",
      "77/77 [==============================] - 74s 962ms/step - loss: 0.0000e+00 - categorical_accuracy: 1.0000 - precision: 0.8017 - recall: 0.8772 - val_loss: 0.0000e+00 - val_categorical_accuracy: 1.0000 - val_precision: 0.7417 - val_recall: 0.8562\n",
      "Epoch 9/10\n",
      "77/77 [==============================] - 80s 1s/step - loss: 0.0000e+00 - categorical_accuracy: 1.0000 - precision: 0.8038 - recall: 0.8772 - val_loss: 0.0000e+00 - val_categorical_accuracy: 1.0000 - val_precision: 0.7425 - val_recall: 0.8483\n",
      "Epoch 10/10\n",
      "77/77 [==============================] - 74s 957ms/step - loss: 0.0000e+00 - categorical_accuracy: 1.0000 - precision: 0.8062 - recall: 0.8599 - val_loss: 0.0000e+00 - val_categorical_accuracy: 1.0000 - val_precision: 0.7422 - val_recall: 0.8430\n"
     ]
    }
   ],
   "source": [
    "epochs = 10\n",
    "\n",
    "# Fit the model using the train and test datasets.\n",
    "history = model.fit(X_train_pad,y_train,validation_data=(X_val_pad,y_val), epochs=epochs)"
   ]
  },
  {
   "cell_type": "code",
   "execution_count": 78,
   "metadata": {},
   "outputs": [
    {
     "name": "stdout",
     "output_type": "stream",
     "text": [
      "3/3 [==============================] - 1s 180ms/step - loss: 0.0000e+00 - categorical_accuracy: 1.0000 - precision: 0.6232 - recall: 0.7167\n",
      "{'loss': 0.0, 'categorical_accuracy': 1.0, 'precision': 0.6231883764266968, 'recall': 0.7166666388511658}\n"
     ]
    }
   ],
   "source": [
    "scores = model.evaluate(X_test_pad, y_test, return_dict=True)\n",
    "\n",
    "print(scores)"
   ]
  },
  {
   "cell_type": "code",
   "execution_count": 79,
   "metadata": {},
   "outputs": [
    {
     "name": "stdout",
     "output_type": "stream",
     "text": [
      "3/3 [==============================] - 0s 146ms/step\n"
     ]
    }
   ],
   "source": [
    "y_pred = model.predict(X_test_pad)"
   ]
  },
  {
   "cell_type": "code",
   "execution_count": 80,
   "metadata": {},
   "outputs": [],
   "source": [
    "y_pred = y_pred.astype(\"int64\")"
   ]
  },
  {
   "cell_type": "code",
   "execution_count": 81,
   "metadata": {},
   "outputs": [
    {
     "data": {
      "image/png": "[encoded data removed]",
      "text/plain": [
       "<Figure size 640x480 with 2 Axes>"
      ]
     },
     "metadata": {},
     "output_type": "display_data"
    }
   ],
   "source": [
    "plot_conf_matrix(y_test,y_pred)"
   ]
  },
  {
   "cell_type": "code",
   "execution_count": 82,
   "metadata": {},
   "outputs": [
    {
     "name": "stdout",
     "output_type": "stream",
     "text": [
      "              precision    recall  f1-score   support\n",
      "\n",
      "           0       0.32      0.24      0.27        34\n",
      "           1       0.43      0.71      0.54        42\n",
      "           2       0.00      0.00      0.00        18\n",
      "\n",
      "    accuracy                           0.40        94\n",
      "   macro avg       0.25      0.32      0.27        94\n",
      "weighted avg       0.31      0.40      0.34        94\n",
      "\n"
     ]
    }
   ],
   "source": [
    "print(classification_report(y_test,y_pred))"
   ]
  }
 ],
 "metadata": {
  "kernelspec": {
   "display_name": "base",
   "language": "python",
   "name": "python3"
  },
  "language_info": {
   "codemirror_mode": {
    "name": "ipython",
    "version": 3
   },
   "file_extension": ".py",
   "mimetype": "text/x-python",
   "name": "python",
   "nbconvert_exporter": "python",
   "pygments_lexer": "ipython3",
   "version": "3.9.13"
  },
  "orig_nbformat": 4
 },
 "nbformat": 4,
 "nbformat_minor": 2
}
